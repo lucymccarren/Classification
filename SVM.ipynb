{
 "cells": [
  {
   "cell_type": "code",
   "execution_count": 29,
   "id": "918a5bcd",
   "metadata": {},
   "outputs": [],
   "source": [
    "import numpy as np\n",
    "import random, math\n",
    "from scipy.optimize import minimize \n",
    "import matplotlib.pyplot as plt"
   ]
  },
  {
   "cell_type": "code",
   "execution_count": 30,
   "id": "a4e3d846",
   "metadata": {},
   "outputs": [],
   "source": [
    "# # Generate test data\n",
    "# # Use random.randn to generate arrays with random numbers \n",
    "# # mean=0,var=1\n",
    "\n",
    "# np.random.seed(100)\n",
    "\n",
    "# classA = np.concatenate((np.random.randn(10,2)*0.2+[1.5,0.5],\n",
    "#                             np.random.randn(10,2)*0.2+[-1.5,0.5]))\n",
    "\n",
    "# classB = np.random.randn(10,2)*(0.2)+[0.0,-0.5]\n",
    "\n",
    "# inputs = np.concatenate((classA,classB)) \n",
    "# targets = np.concatenate((np.ones(classA.shape[0]) , \n",
    "#                             -np.ones(classB.shape[0])))\n",
    "\n",
    "# N = inputs.shape[0] # Number of rows (samples)\n"
   ]
  },
  {
   "cell_type": "code",
   "execution_count": 31,
   "id": "cce8a3ce",
   "metadata": {},
   "outputs": [],
   "source": [
    "np.random.seed(1)\n",
    "random.seed = 1\n",
    "epsilon = 1e-5"
   ]
  },
  {
   "cell_type": "code",
   "execution_count": 32,
   "id": "f5542dba",
   "metadata": {},
   "outputs": [],
   "source": [
    "class SVM():\n",
    "    def __init__(self, C = 100, kernel = \"linear\", kernel_param = 2):\n",
    "        self.C = C\n",
    "        self.kernel = kernel\n",
    "        self.kernel_param = kernel_param\n",
    "\n",
    "    # KERNELS\n",
    "    def __kernel(self, x, y):\n",
    "        if self.kernel == \"linear\":\n",
    "            return self.__kernel_linear(x, y)\n",
    "        if self.kernel == \"poly\":\n",
    "            return self.__kernel_poly(x, y)\n",
    "        if self.kernel == \"rbf\":\n",
    "            return self.__kernel_rbf(x, y)\n",
    "\n",
    "    def __kernel_linear(self, x, y):\n",
    "        return np.dot(np.transpose(x), y)\n",
    "\n",
    "    def __kernel_poly(self, x, y):\n",
    "        return (np.dot(np.transpose(x), y) + 1) ** self.kernel_param\n",
    "\n",
    "    def __kernel_rbf(self, x, y):\n",
    "        return math.exp(-((np.linalg.norm(x - y)) ** 2\\\n",
    "            / (2 * self.kernel_param ** 2)))\n",
    "\n",
    "    # PROBLEM DEFINITION\n",
    "    def __compute_P_mat(self, t, xs):\n",
    "        P = np.zeros((len(xs), len(xs)))\n",
    "        for i in range(len(xs)):\n",
    "            for j in range(len(xs)):\n",
    "                P[i][j] = t[i]*t[j]*self.__kernel(xs[i], xs[j])\n",
    "        return P\n",
    "\n",
    "    def __objective(self, alpha):\n",
    "        return 0.5*np.dot(np.dot(np.transpose(alpha), self.P), alpha) - np.sum(alpha)\n",
    "\n",
    "    def __zerofun(self, alpha):\n",
    "        return np.dot(np.transpose(alpha), self.targets)\n",
    "\n",
    "    # AFTER MINIMIZATION\n",
    "    def __compute_b(self):\n",
    "        support_vector = self.non_zero_vals[0][1]\n",
    "        t_support = self.non_zero_vals[0][2]\n",
    "        for alpha, x, t in self.non_zero_vals:\n",
    "            if alpha < self.C:\n",
    "                t_support = t\n",
    "                support_vector = x\n",
    "\n",
    "        if t_support == 0:\n",
    "            print(\"ERROR: Couldn't find alpha < C\")\n",
    "            return 0\n",
    "\n",
    "        b_result = 0\n",
    "        for alpha, x, t in self.non_zero_vals:\n",
    "            b_result += alpha*t*self.__kernel(support_vector, x)\n",
    "        return b_result - t_support\n",
    "\n",
    "    # PUBLIC:\n",
    "    def train(self, classA, classB):\n",
    "        inputs = np.concatenate((classA , classB))  # x and y coordinates for the data\n",
    "        targets = np.concatenate((np.ones(classA.shape[0]), -np.ones(classB.shape[0])))  # holds the +1 or -1 values for the inputs, their indices in the list coincide respectively\n",
    "        self.n_train = inputs.shape[0]  # Number of samples\n",
    "        permute = list(range(self.n_train))\n",
    "        random.shuffle(permute)\n",
    "        self.inputs = inputs[permute, : ]  # Training values\n",
    "        self.targets = targets[permute]  # Training labels\n",
    "\n",
    "        self.P = self.__compute_P_mat(self.targets, self.inputs)\n",
    "        alpha_0 = np.zeros(self.n_train)\n",
    "        bounds = [(0, self.C) for b in range(self.n_train)]\n",
    "        constraint = {'type':'eq', 'fun':self.__zerofun}\n",
    "\n",
    "        print(\"Training...\")\n",
    "        ret = minimize(self.__objective, alpha_0, bounds = bounds, constraints = constraint)\n",
    "    \n",
    "        alpha = ret.x\n",
    "        if ret.success:\n",
    "            print(\"Success\")\n",
    "        else:\n",
    "            print(\"ERROR: Optimization didnt converge\")\n",
    "            return\n",
    "\n",
    "        # Remove 0's\n",
    "        self.non_zero_vals = []\n",
    "        for i in range(len(alpha)):\n",
    "            if alpha[i] > epsilon:\n",
    "                self.non_zero_vals.append((alpha[i], self.inputs[i], self.targets[i]))\n",
    "\n",
    "        # Compute b\n",
    "        self.b = self.__compute_b()\n",
    "\n",
    "    def indicator(self, point):\n",
    "        sumation = 0\n",
    "        for alpha, x, t in self.non_zero_vals:\n",
    "            sumation += alpha*t*self.__kernel(point, x)\n",
    "        return sumation - self.b\n",
    "\n",
    "    def plot(self, classA, classB):\n",
    "        plt.plot( [ p[0] for p in classA], [ p[1] for p in classA], 'b. ' )\n",
    "        plt.plot( [ p[0] for p in classB], [ p[1] for p in classB], 'r. ' )\n",
    "\n",
    "        xgrid = np.linspace(-5, 5)\n",
    "        ygrid = np.linspace(-4, 4)\n",
    "        grid = np.array([[self.indicator(np.array((x,y)))\n",
    "                            for x in xgrid]\n",
    "                            for y in ygrid])\n",
    "\n",
    "        plt.contour(xgrid, ygrid, grid, (-1.0, 0.0, 1.0),\n",
    "                    colors = (\"red\", \"black\", \"blue\"),\n",
    "                    linewidths = (1, 3, 1))\n",
    "\n",
    "        plt.axis('equal')           # Force same scale on both axes\n",
    "        plt.savefig('svmplot.png')  # Save a copy in a file\n",
    "        plt .show()                 # Show the plot on the screen\n"
   ]
  },
  {
   "cell_type": "code",
   "execution_count": 33,
   "id": "b0e6262c",
   "metadata": {},
   "outputs": [
    {
     "name": "stdout",
     "output_type": "stream",
     "text": [
      "Training...\n",
      "Success\n"
     ]
    },
    {
     "data": {
      "image/png": "[encoded data removed]",
      "text/plain": [
       "<Figure size 432x288 with 1 Axes>"
      ]
     },
     "metadata": {
      "needs_background": "light"
     },
     "output_type": "display_data"
    }
   ],
   "source": [
    "if __name__ == \"__main__\":\n",
    "    # Create dataset\n",
    "    classA = np.concatenate((\\\n",
    "            np.random.randn(20, 2) * 0.2 + [1.5,0.5],\\\n",
    "            np.random.randn(20, 2) * 0.2 + [-1.5,0.5]))\n",
    "    classB = np.random.randn(20, 2) * 0.2 + [0.0, -0.5]\n",
    "    \n",
    "    #svm = SVM(C = 1, kernel = \"linear\", kernel_param = 0)\n",
    "    #svm = SVM(C = 1, kernel = \"poly\", kernel_param = 2)\n",
    "    svm = SVM(C = 10, kernel = \"rbf\", kernel_param = 3)\n",
    "    svm.train(classA, classB)\n",
    "    svm.plot(classA, classB)\n",
    "\n",
    "    \n"
   ]
  },
  {
   "cell_type": "code",
   "execution_count": null,
   "id": "9eaecf64",
   "metadata": {},
   "outputs": [],
   "source": []
  },
  {
   "cell_type": "code",
   "execution_count": null,
   "id": "ef89dbec",
   "metadata": {},
   "outputs": [],
   "source": []
  },
  {
   "cell_type": "code",
   "execution_count": null,
   "id": "1c260a3a",
   "metadata": {},
   "outputs": [],
   "source": []
  },
  {
   "cell_type": "code",
   "execution_count": null,
   "id": "b3f14462",
   "metadata": {},
   "outputs": [],
   "source": []
  }
 ],
 "metadata": {
  "kernelspec": {
   "display_name": "Python 3 (ipykernel)",
   "language": "python",
   "name": "python3"
  },
  "language_info": {
   "codemirror_mode": {
    "name": "ipython",
    "version": 3
   },
   "file_extension": ".py",
   "mimetype": "text/x-python",
   "name": "python",
   "nbconvert_exporter": "python",
   "pygments_lexer": "ipython3",
   "version": "3.7.9"
  }
 },
 "nbformat": 4,
 "nbformat_minor": 5
}
